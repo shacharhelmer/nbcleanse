{
 "cells": [
  {
   "cell_type": "markdown",
   "metadata": {},
   "source": [
    "# nbcleanse CLI Interface"
   ]
  },
  {
   "cell_type": "code",
   "execution_count": null,
   "metadata": {},
   "outputs": [],
   "source": [
    "#| default_exp cli"
   ]
  },
  {
   "cell_type": "code",
   "execution_count": null,
   "metadata": {},
   "outputs": [],
   "source": [
    "#| export\n",
    "\n",
    "from functools import reduce\n",
    "from nbcleanse.notebook import Notebook\n",
    "\n",
    "def get_nbs_paths(globs: list):\n",
    "    ex_globs = [Path('.').glob(glob) for glob in globs]\n",
    "    paths = list(reduce(lambda l1, l2: l1 + l2, ex_globs))\n",
    "    return [p for p in paths if p.suffix == '.ipynb']\n",
    "\n",
    "def report_paths(paths: list):\n",
    "    print('🕵️  Notebooks Found:\\n' + '\\n'.join([str(p.absolute()) for p in paths]))"
   ]
  },
  {
   "cell_type": "code",
   "execution_count": null,
   "metadata": {},
   "outputs": [],
   "source": [
    "#| export\n",
    "\n",
    "from pathlib import Path\n",
    "import sys\n",
    "import contextlib\n",
    "import os\n",
    "\n",
    "def nbcleanse(**kwargs):\n",
    "    \"Clean all notebooks in the current directory using the given parameters\"            \n",
    "    quiet_context = contextlib.redirect_stdout(open(os.devnull, 'w')) if kwargs['quiet'] else contextlib.nullcontext()\n",
    "    with quiet_context:\n",
    "        paths = get_nbs_paths(kwargs['find_globs'])        \n",
    "        report_paths(paths)\n",
    "        for path in paths:                \n",
    "            nb = Notebook(path)                \n",
    "            if kwargs['clean_operations'] is not None:\n",
    "                print(f'🧼 Cleaning {path} ...')   \n",
    "                nb.clean(kwargs['clean_operations'])\n",
    "                nb.save()\n",
    "            # TODO: enable check mode\n",
    "            # else:\n",
    "            #     print(f'🧼 Checking {path} ...')\n",
    "        print('✨ Done! ✨')"
   ]
  },
  {
   "cell_type": "code",
   "execution_count": null,
   "metadata": {},
   "outputs": [],
   "source": [
    "#| export\n",
    "\n",
    "from argparse import ArgumentParser\n",
    "from nbcleanse.notebook import CleanOperations\n",
    "\n",
    "\n",
    "parser = ArgumentParser(prog='nbcleanse')\n",
    "parser.add_argument('-m', action='append_const', help='Clean cells and notebook-wide metadata', dest='clean_operations', const=CleanOperations.METADATA)\n",
    "parser.add_argument('-o', action='append_const', help='Clean cells outputs', dest='clean_operations', const=CleanOperations.OUTPUTS)\n",
    "parser.add_argument('-e', action='append_const', help='Clean cells execution counts', dest='clean_operations', const=CleanOperations.EXECUTION_COUNT)\n",
    "parser.add_argument('-a', action='append_const', help='Clean EVERYTHING from a notebook', dest='clean_operations', const=CleanOperations.ALL)\n",
    "# TODO: append const + argument that is the pattern to apply\n",
    "parser.add_argument('-j', action=)\n",
    "parser.add_argument('-q', action='store_true', help='Quiet mode', dest='quiet')\n",
    "parser.add_argument(nargs='*', help='Glob patterns (relative to cwd) of notebooks to filter', dest='find_globs', default=['*.ipynb'])\n",
    "\n",
    "def main():\n",
    "    args = parser.parse_args()\n",
    "    nbcleanse(**vars(args))"
   ]
  },
  {
   "cell_type": "markdown",
   "metadata": {},
   "source": [
    "## export"
   ]
  },
  {
   "cell_type": "code",
   "execution_count": 1,
   "metadata": {},
   "outputs": [],
   "source": [
    "from nbdev.export import nb_export\n",
    "\n",
    "nb_export('cli.ipynb')"
   ]
  },
  {
   "cell_type": "code",
   "execution_count": null,
   "metadata": {},
   "outputs": [],
   "source": []
  }
 ],
 "metadata": {
  "kernelspec": {
   "display_name": "nbcleanse",
   "language": "python",
   "name": "python3"
  },
  "language_info": {
   "codemirror_mode": {
    "name": "ipython",
    "version": 3
   },
   "file_extension": ".py",
   "mimetype": "text/x-python",
   "name": "python",
   "nbconvert_exporter": "python",
   "pygments_lexer": "ipython3",
   "version": "3.10.0"
  },
  "vscode": {
   "interpreter": {
    "hash": "bf46a7aded785e62ef1b75d4d41b21232b153fa5c22b4861f9f5aec589bb1f0c"
   }
  }
 },
 "nbformat": 4,
 "nbformat_minor": 2
}
