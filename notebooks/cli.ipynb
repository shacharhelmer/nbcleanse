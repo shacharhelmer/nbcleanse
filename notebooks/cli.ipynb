{
 "cells": [
  {
   "cell_type": "markdown",
   "metadata": {},
   "source": [
    "# nbcleanse CLI Interface"
   ]
  },
  {
   "cell_type": "code",
   "execution_count": 8,
   "metadata": {},
   "outputs": [],
   "source": [
    "#| default_exp cli"
   ]
  },
  {
   "cell_type": "code",
   "execution_count": 30,
   "metadata": {},
   "outputs": [],
   "source": [
    "#| export\n",
    "\n",
    "from pathlib import Path\n",
    "from nbcleanse.notebook import Notebook\n",
    "\n",
    "\n",
    "def nbcleanse(**kwargs):\n",
    "    \"Clean all notebooks in the current directory using the given parameters\"    \n",
    "    for path in Path('.').glob('*.ipynb'):\n",
    "        nb = Notebook(path)\n",
    "        for k in kwargs:\n",
    "            getattr(nb, k)()\n",
    "        nb.save()"
   ]
  },
  {
   "cell_type": "code",
   "execution_count": 29,
   "metadata": {},
   "outputs": [],
   "source": [
    "#| export\n",
    "\n",
    "from argparse import ArgumentParser\n",
    "\n",
    "# using argparse rather than fastcore.script because it's possible to add single dash, concatable flags\n",
    "\n",
    "parser = ArgumentParser(prog='nbcleanse')\n",
    "parser.add_argument('-m', action='store_true', help='Preserve cells and notebook-wide metadata', dest='clean_all_metadata')\n",
    "parser.add_argument('-o', action='store_true', help='Preserve cells outputs', dest='clean_outputs')\n",
    "\n",
    "def main():\n",
    "    args = parser.parse_args()\n",
    "    nbcleanse(**vars(args))"
   ]
  },
  {
   "cell_type": "markdown",
   "metadata": {},
   "source": [
    "## export"
   ]
  },
  {
   "cell_type": "code",
   "execution_count": 31,
   "metadata": {},
   "outputs": [],
   "source": [
    "from nbdev.export import nb_export\n",
    "\n",
    "nb_export('cli.ipynb')"
   ]
  },
  {
   "cell_type": "code",
   "execution_count": null,
   "metadata": {},
   "outputs": [],
   "source": []
  }
 ],
 "metadata": {
  "kernelspec": {
   "display_name": "Python 3.10.0 ('nbcleanse')",
   "language": "python",
   "name": "python3"
  },
  "language_info": {
   "codemirror_mode": {
    "name": "ipython",
    "version": 3
   },
   "file_extension": ".py",
   "mimetype": "text/x-python",
   "name": "python",
   "nbconvert_exporter": "python",
   "pygments_lexer": "ipython3",
   "version": "3.10.0"
  },
  "orig_nbformat": 4,
  "vscode": {
   "interpreter": {
    "hash": "bf46a7aded785e62ef1b75d4d41b21232b153fa5c22b4861f9f5aec589bb1f0c"
   }
  }
 },
 "nbformat": 4,
 "nbformat_minor": 2
}
