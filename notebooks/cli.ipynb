{
 "cells": [
  {
   "cell_type": "markdown",
   "metadata": {},
   "source": [
    "# nbcleanse CLI Interface"
   ]
  },
  {
   "cell_type": "code",
   "execution_count": 3,
   "metadata": {},
   "outputs": [],
   "source": [
    "#| default_exp cli"
   ]
  },
  {
   "cell_type": "code",
   "execution_count": 23,
   "metadata": {},
   "outputs": [],
   "source": [
    "#| export\n",
    "\n",
    "from pathlib import Path\n",
    "from nbcleanse.notebook import Notebook\n",
    "import sys\n",
    "import contextlib\n",
    "import os\n",
    "\n",
    "def nbcleanse(**kwargs):\n",
    "    \"Clean all notebooks in the current directory using the given parameters\"            \n",
    "    quiet_context = contextlib.redirect_stdout(open(os.devnull, 'w')) if kwargs['quiet'] else contextlib.nullcontext()\n",
    "    with quiet_context:\n",
    "        for path in Path('.').glob('*.ipynb'):\n",
    "            nb = Notebook(path)        \n",
    "            if kwargs['clean_operations'] is not None:\n",
    "                print(f'🧼 Cleaning {path} ...')       \n",
    "                nb.clean(kwargs['clean_operations'])\n",
    "                nb.save()\n",
    "            else:\n",
    "                print(f'🧼 Checking {path} ...')       \n",
    "        print('✨ Done! ✨')"
   ]
  },
  {
   "cell_type": "code",
   "execution_count": 24,
   "metadata": {},
   "outputs": [],
   "source": [
    "#| export\n",
    "\n",
    "from argparse import ArgumentParser\n",
    "from nbcleanse.notebook import CleanOperations\n",
    "\n",
    "\n",
    "parser = ArgumentParser(prog='nbcleanse')\n",
    "parser.add_argument('-m', action='append_const', help='Preserve cells and notebook-wide metadata', dest='clean_operations', const=CleanOperations.METADATA)\n",
    "parser.add_argument('-o', action='append_const', help='Preserve cells outputs', dest='clean_operations', const=CleanOperations.OUTPUTS)\n",
    "parser.add_argument('-q', action='store_true', help='Quiet mode', dest='quiet')\n",
    "\n",
    "def main():\n",
    "    args = parser.parse_args()\n",
    "    nbcleanse(**vars(args))"
   ]
  },
  {
   "cell_type": "markdown",
   "metadata": {},
   "source": [
    "## export"
   ]
  },
  {
   "cell_type": "code",
   "execution_count": 25,
   "metadata": {},
   "outputs": [],
   "source": [
    "from nbdev.export import nb_export\n",
    "\n",
    "nb_export('cli.ipynb')"
   ]
  },
  {
   "cell_type": "code",
   "execution_count": null,
   "metadata": {},
   "outputs": [],
   "source": []
  }
 ],
 "metadata": {
  "kernelspec": {
   "display_name": "Python 3.10.0 ('nbcleanse')",
   "language": "python",
   "name": "python3"
  },
  "language_info": {
   "codemirror_mode": {
    "name": "ipython",
    "version": 3
   },
   "file_extension": ".py",
   "mimetype": "text/x-python",
   "name": "python",
   "nbconvert_exporter": "python",
   "pygments_lexer": "ipython3",
   "version": "3.10.0"
  },
  "orig_nbformat": 4,
  "vscode": {
   "interpreter": {
    "hash": "bf46a7aded785e62ef1b75d4d41b21232b153fa5c22b4861f9f5aec589bb1f0c"
   }
  }
 },
 "nbformat": 4,
 "nbformat_minor": 2
}
