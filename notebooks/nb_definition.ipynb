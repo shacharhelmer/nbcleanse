{
 "cells": [
  {
   "cell_type": "markdown",
   "metadata": {},
   "source": [
    "# Notebook handeling"
   ]
  },
  {
   "cell_type": "code",
   "execution_count": 2,
   "metadata": {},
   "outputs": [],
   "source": [
    "#| default_exp notebook"
   ]
  },
  {
   "cell_type": "markdown",
   "metadata": {},
   "source": [
    "## Notebook object\n",
    "\n",
    "The underlying file structure of a notebook is JSON, which directly matches python dictionaries.  \n",
    "As such, it is treated by `nbformat` as spcieal kind of `dict`.  "
   ]
  },
  {
   "cell_type": "code",
   "execution_count": 3,
   "metadata": {},
   "outputs": [],
   "source": [
    "#| export\n",
    "\n",
    "from nbformat import NotebookNode\n",
    "from nbformat import read as read_nb, write as write_nb, validate as validate_nb, from_dict\n",
    "import jq"
   ]
  },
  {
   "cell_type": "markdown",
   "metadata": {},
   "source": [
    "Due to that, all of `jq`s' power is available to us: "
   ]
  },
  {
   "cell_type": "code",
   "execution_count": 4,
   "metadata": {},
   "outputs": [],
   "source": [
    "#| export\n",
    "from typing import Iterable\n",
    "from enum import Enum\n",
    "\n",
    "# TODO: about filter, how about:\n",
    "# nb.cells = jq.compile(filter).input(nb.cells).all()?\n",
    "class Notebook:\n",
    "    def __init__(self, path):\n",
    "        self.path = path\n",
    "        self.nb = read_nb(path, as_version=4)\n",
    "\n",
    "    def apply_jq_pattern(self, pattern):\n",
    "        return from_dict(jq.compile(pattern).input(self.nb).first())\n",
    "\n",
    "    def clean_execution_counts(self):\n",
    "        self.nb = self.apply_jq_pattern('.cells[].execution_count = null')\n",
    "        \n",
    "    def clean_outputs(self):\n",
    "        self.nb = self.apply_jq_pattern('.cells[].outputs = []')\n",
    "    \n",
    "    def clean_all_metadata(self):\n",
    "        self.nb = self.apply_jq_pattern('.cells[].metadata = {}')\n",
    "        self.nb = self.apply_jq_pattern('.metadata = {}')\n",
    "        \n",
    "    # TODO: circular dependency - notebooks.clean needs clean operations and vice versa\n",
    "    def clean(self, clean_ops: Iterable[Enum]):        \n",
    "        for op in clean_ops:\n",
    "            getattr(self, op.value)()\n",
    "        return self\n",
    "        \n",
    "    def save(self, path=None):\n",
    "        path = path if path else self.path\n",
    "        write_nb(self.nb, path)\n",
    "        "
   ]
  },
  {
   "cell_type": "code",
   "execution_count": 5,
   "metadata": {},
   "outputs": [],
   "source": [
    "#| export\n",
    "\n",
    "class CleanOperations(Enum):\n",
    "    METADATA = Notebook.clean_all_metadata.__name__\n",
    "    OUTPUTS = Notebook.clean_outputs.__name__\n",
    "    EXECUTION_COUNT = Notebook.clean_execution_counts.__name__    \n"
   ]
  },
  {
   "cell_type": "markdown",
   "metadata": {},
   "source": [
    "## Tests"
   ]
  },
  {
   "cell_type": "markdown",
   "metadata": {},
   "source": [
    "### Base Clean Notebook"
   ]
  },
  {
   "cell_type": "code",
   "execution_count": 45,
   "metadata": {},
   "outputs": [],
   "source": [
    "#| hide\n",
    "\n",
    "from pathlib import Path\n",
    "test_data_dir = Path('../tests/data')\n",
    "\n",
    "# tests the \"clean\" nb is indeed clean\n",
    "cln_nb = read_nb(test_data_dir/'clean.ipynb', as_version=4)"
   ]
  },
  {
   "cell_type": "markdown",
   "metadata": {},
   "source": [
    "#### Cleaning a clean notebook produces same result"
   ]
  },
  {
   "cell_type": "code",
   "execution_count": 46,
   "metadata": {},
   "outputs": [],
   "source": [
    "#| hide\n",
    "\n",
    "# TODO: enable clean to recieve __all__ clean operations - maybe make an __all__ flag\n",
    "assert Notebook(test_data_dir/'clean.ipynb').clean([CleanOperations.METADATA, CleanOperations.OUTPUTS, CleanOperations.EXECUTION_COUNT]).nb == cln_nb"
   ]
  },
  {
   "cell_type": "markdown",
   "metadata": {},
   "source": [
    "### Clean All Attributes"
   ]
  },
  {
   "cell_type": "code",
   "execution_count": 48,
   "metadata": {},
   "outputs": [],
   "source": [
    "from unittest import TestCase\n",
    "tc = TestCase()\n",
    "\n",
    "cln = Notebook(test_data_dir/'dirty.ipynb').clean([CleanOperations.METADATA, CleanOperations.OUTPUTS, CleanOperations.EXECUTION_COUNT]).nb\n",
    "\n",
    "tc.assertDictEqual(cln, cln_nb)"
   ]
  },
  {
   "cell_type": "markdown",
   "metadata": {},
   "source": [
    "### Clean Outputs"
   ]
  },
  {
   "cell_type": "code",
   "execution_count": 55,
   "metadata": {},
   "outputs": [],
   "source": [
    "no_out = Notebook(test_data_dir/'dirty.ipynb').clean([CleanOperations.OUTPUTS]).nb\n",
    "tc.assertDictEqual(no_out, read_nb(test_data_dir/'no_outputs.ipynb', as_version=4))"
   ]
  },
  {
   "cell_type": "markdown",
   "metadata": {},
   "source": [
    "### Clean Execution Counts"
   ]
  },
  {
   "cell_type": "code",
   "execution_count": 57,
   "metadata": {},
   "outputs": [],
   "source": [
    "no_ex_cnt = Notebook(test_data_dir/'dirty.ipynb').clean([CleanOperations.EXECUTION_COUNT]).nb\n",
    "tc.assertDictEqual(no_ex_cnt, read_nb(test_data_dir/'no_execution_counts.ipynb', as_version=4))"
   ]
  },
  {
   "cell_type": "markdown",
   "metadata": {},
   "source": [
    "### Clean Metadata"
   ]
  },
  {
   "cell_type": "markdown",
   "metadata": {},
   "source": [
    "## export"
   ]
  },
  {
   "cell_type": "code",
   "execution_count": 98,
   "metadata": {},
   "outputs": [],
   "source": [
    "from nbdev.export import nb_export\n",
    "\n",
    "nb_export('nb_definition.ipynb')"
   ]
  },
  {
   "cell_type": "code",
   "execution_count": null,
   "metadata": {},
   "outputs": [],
   "source": []
  }
 ],
 "metadata": {
  "kernelspec": {
   "display_name": "Python 3.10.0 ('nbcleanse')",
   "language": "python",
   "name": "python3"
  },
  "language_info": {
   "codemirror_mode": {
    "name": "ipython",
    "version": 3
   },
   "file_extension": ".py",
   "mimetype": "text/x-python",
   "name": "python",
   "nbconvert_exporter": "python",
   "pygments_lexer": "ipython3",
   "version": "3.10.0"
  },
  "vscode": {
   "interpreter": {
    "hash": "bf46a7aded785e62ef1b75d4d41b21232b153fa5c22b4861f9f5aec589bb1f0c"
   }
  }
 },
 "nbformat": 4,
 "nbformat_minor": 2
}
