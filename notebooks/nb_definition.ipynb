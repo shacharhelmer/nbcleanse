{
 "cells": [
  {
   "cell_type": "markdown",
   "execution_count": null,
   "metadata": {},
   "outputs": [],
   "source": [
    "# Notebook handeling"
   ]
  },
  {
   "cell_type": "code",
   "execution_count": null,
   "metadata": {},
   "outputs": [],
   "source": [
    "#| default_exp notebook"
   ]
  },
  {
   "cell_type": "markdown",
   "execution_count": null,
   "metadata": {},
   "outputs": [],
   "source": [
    "## Notebook object\n",
    "\n",
    "The underlying file structure of a notebook is JSON, which directly matches python dictionaries.  \n",
    "As such, it is treated by `nbformat` as spcieal kind of `dict`.  "
   ]
  },
  {
   "cell_type": "code",
   "execution_count": null,
   "metadata": {},
   "outputs": [],
   "source": [
    "#| export\n",
    "\n",
    "from nbformat import NotebookNode\n",
    "from nbformat import read as read_nb, write as write_nb, validate as validate_nb, from_dict\n",
    "import jq"
   ]
  },
  {
   "cell_type": "markdown",
   "execution_count": null,
   "metadata": {},
   "outputs": [],
   "source": [
    "Due to that, all of `jq`s' power is available to us: "
   ]
  },
  {
   "cell_type": "code",
   "execution_count": null,
   "metadata": {},
   "outputs": [],
   "source": [
    "#| export\n",
    "from typing import Iterable, Union\n",
    "from enum import Enum\n",
    "\n",
    "DEFAULT_NB_METADATA = '{\"kernelspec\": {\"language\": \"python\"}}'\n",
    "\n",
    "# TODO: about filter, how about:\n",
    "# nb.cells = jq.compile(filter).input(nb.cells).all()?\n",
    "class Notebook:\n",
    "    def __init__(self, path):\n",
    "        self.path = path\n",
    "        self.nb = read_nb(path, as_version=4)\n",
    "\n",
    "    def apply_jq_pattern(self, pattern):\n",
    "        self.nb = from_dict(jq.compile(pattern).input(self.nb).first())\n",
    "\n",
    "    def clean_execution_counts(self):\n",
    "        self.apply_jq_pattern('.cells[].execution_count = null')\n",
    "        \n",
    "    def clean_outputs(self):\n",
    "        self.apply_jq_pattern('.cells[].outputs = []')\n",
    "    \n",
    "    def clean_all_metadata(self):\n",
    "        self.apply_jq_pattern('.cells[].metadata = {}')\n",
    "        self.apply_jq_pattern(f'.metadata = {DEFAULT_NB_METADATA}')\n",
    "    \n",
    "    def clean_all(self):\n",
    "        self.clean_execution_counts()\n",
    "        self.clean_outputs()\n",
    "        self.clean_all_metadata()\n",
    "        \n",
    "    # TODO: circular dependency - notebooks.clean needs CleanOperations enum and vice versa\n",
    "    def clean(self, clean_ops: Iterable[Union[Enum, tuple]]):\n",
    "        for op in clean_ops:\n",
    "            if isinstance(op, Enum):\n",
    "                getattr(self, op.value)()\n",
    "            elif isinstance(op, tuple):\n",
    "                getattr(self, op[0].value)(*op[1])\n",
    "        return self\n",
    "        \n",
    "    def save(self, path=None):\n",
    "        path = path if path else self.path\n",
    "        write_nb(self.nb, path)\n",
    "        "
   ]
  },
  {
   "cell_type": "code",
   "execution_count": null,
   "metadata": {},
   "outputs": [],
   "source": [
    "#| export\n",
    "\n",
    "class CleanOperations(Enum):\n",
    "    METADATA = Notebook.clean_all_metadata.__name__\n",
    "    OUTPUTS = Notebook.clean_outputs.__name__\n",
    "    EXECUTION_COUNT = Notebook.clean_execution_counts.__name__\n",
    "    CUSTOM_JQ = Notebook.apply_jq_pattern.__name__\n",
    "    ALL = Notebook.clean_all.__name__ \n"
   ]
  },
  {
   "cell_type": "markdown",
   "execution_count": null,
   "metadata": {},
   "outputs": [],
   "source": [
    "## Tests"
   ]
  },
  {
   "cell_type": "markdown",
   "execution_count": null,
   "metadata": {},
   "outputs": [],
   "source": [
    "### Base Clean Notebook"
   ]
  },
  {
   "cell_type": "code",
   "execution_count": null,
   "metadata": {},
   "outputs": [],
   "source": [
    "#| hide\n",
    "\n",
    "from pathlib import Path\n",
    "test_data_dir = Path('../tests/data')\n",
    "\n",
    "# tests the \"clean\" nb is indeed clean\n",
    "cln_nb = read_nb(test_data_dir/'clean.ipynb', as_version=4)"
   ]
  },
  {
   "cell_type": "markdown",
   "execution_count": null,
   "metadata": {},
   "outputs": [],
   "source": [
    "#### Cleaning a clean notebook produces same result"
   ]
  },
  {
   "cell_type": "code",
   "execution_count": null,
   "metadata": {},
   "outputs": [],
   "source": [
    "#| hide\n",
    "\n",
    "# TODO: enable clean to recieve __all__ clean operations - maybe make an __all__ flag\n",
    "assert Notebook(test_data_dir/'clean.ipynb').clean([CleanOperations.ALL]).nb == cln_nb"
   ]
  },
  {
   "attachments": {},
   "cell_type": "markdown",
   "execution_count": null,
   "metadata": {},
   "outputs": [],
   "source": [
    "### Clean All Attributes"
   ]
  },
  {
   "cell_type": "code",
   "execution_count": null,
   "metadata": {},
   "outputs": [],
   "source": [
    "from unittest import TestCase\n",
    "tc = TestCase()\n",
    "\n",
    "cln = Notebook(test_data_dir/'dirty.ipynb').clean([CleanOperations.ALL]).nb\n",
    "\n",
    "tc.assertDictEqual(cln, cln_nb)"
   ]
  },
  {
   "cell_type": "markdown",
   "execution_count": null,
   "metadata": {},
   "outputs": [],
   "source": [
    "### Clean Outputs"
   ]
  },
  {
   "cell_type": "code",
   "execution_count": null,
   "metadata": {},
   "outputs": [],
   "source": [
    "no_out = Notebook(test_data_dir/'dirty.ipynb').clean([CleanOperations.OUTPUTS]).nb\n",
    "tc.assertDictEqual(no_out, read_nb(test_data_dir/'no_outputs.ipynb', as_version=4))"
   ]
  },
  {
   "cell_type": "markdown",
   "execution_count": null,
   "metadata": {},
   "outputs": [],
   "source": [
    "### Clean Execution Counts"
   ]
  },
  {
   "cell_type": "code",
   "execution_count": null,
   "metadata": {},
   "outputs": [],
   "source": [
    "no_ex_cnt = Notebook(test_data_dir/'dirty.ipynb').clean([CleanOperations.EXECUTION_COUNT]).nb\n",
    "tc.assertDictEqual(no_ex_cnt, read_nb(test_data_dir/'no_execution_counts.ipynb', as_version=4))"
   ]
  },
  {
   "cell_type": "markdown",
   "execution_count": null,
   "metadata": {},
   "outputs": [],
   "source": [
    "### Clean Metadata"
   ]
  },
  {
   "cell_type": "code",
   "execution_count": null,
   "metadata": {},
   "outputs": [],
   "source": [
    "no_meta = Notebook(test_data_dir/'dirty.ipynb').clean([CleanOperations.METADATA]).nb\n",
    "tc.assertDictEqual(no_meta, read_nb(test_data_dir/'no_metadata.ipynb', as_version=4))"
   ]
  },
  {
   "attachments": {},
   "cell_type": "markdown",
   "execution_count": null,
   "metadata": {},
   "outputs": [],
   "source": [
    "### Reseting Empty Metadata"
   ]
  },
  {
   "cell_type": "code",
   "execution_count": null,
   "metadata": {},
   "outputs": [],
   "source": [
    "reset_nb_metadata = Notebook(test_data_dir/'clean_empty_nb_metadata.ipynb').clean([CleanOperations.METADATA]).nb\n",
    "tc.assertDictEqual(reset_nb_metadata, cln_nb)"
   ]
  },
  {
   "attachments": {},
   "cell_type": "markdown",
   "execution_count": null,
   "metadata": {},
   "outputs": [],
   "source": [
    "### Custom JQ filters"
   ]
  },
  {
   "cell_type": "code",
   "execution_count": null,
   "metadata": {},
   "outputs": [],
   "source": [
    "custom_clean_output = Notebook(test_data_dir/'dirty.ipynb').clean(\n",
    "    [(CleanOperations.CUSTOM_JQ, ['.cells[].outputs = []'])]\n",
    ").nb\n",
    "tc.assertDictEqual(custom_clean_output, read_nb(test_data_dir/'no_outputs.ipynb', as_version=4))"
   ]
  },
  {
   "cell_type": "markdown",
   "execution_count": null,
   "metadata": {},
   "outputs": [],
   "source": [
    "## export"
   ]
  },
  {
   "cell_type": "code",
   "execution_count": null,
   "metadata": {},
   "outputs": [],
   "source": [
    "from nbdev.export import nb_export\n",
    "\n",
    "nb_export('nb_definition.ipynb')"
   ]
  },
  {
   "cell_type": "code",
   "execution_count": null,
   "metadata": {},
   "outputs": [],
   "source": []
  }
 ],
 "metadata": {
  "kernelspec": {
   "language": "python"
  }
 },
 "nbformat": 4,
 "nbformat_minor": 2
}
