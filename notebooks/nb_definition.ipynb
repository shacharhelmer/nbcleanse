{
 "cells": [
  {
   "cell_type": "markdown",
   "metadata": {},
   "source": [
    "# Notebook handeling"
   ]
  },
  {
   "cell_type": "code",
   "execution_count": 18,
   "metadata": {},
   "outputs": [],
   "source": [
    "#| default_exp notebook"
   ]
  },
  {
   "cell_type": "markdown",
   "metadata": {},
   "source": [
    "## Notebook object\n",
    "\n",
    "The underlying file structure of a notebook is JSON, which directly matches python dictionaries.  \n",
    "As such, it is treated by `nbformat` as spcieal kind of `dict`.  "
   ]
  },
  {
   "cell_type": "code",
   "execution_count": 25,
   "metadata": {},
   "outputs": [],
   "source": [
    "#| export\n",
    "\n",
    "from nbformat import NotebookNode\n",
    "from nbformat import read as read_nb, write as write_nb, validate as validate_nb, from_dict\n",
    "import jq"
   ]
  },
  {
   "cell_type": "markdown",
   "metadata": {},
   "source": [
    "Due to that, all of `jq`s' power is available to us: "
   ]
  },
  {
   "cell_type": "code",
   "execution_count": 26,
   "metadata": {},
   "outputs": [],
   "source": [
    "#| export\n",
    "\n",
    "class Notebook:\n",
    "    def __init__(self, path):\n",
    "        self.path = path\n",
    "        self.nb = read_nb(path, as_version=4)\n",
    "\n",
    "    def apply_jq_pattern(self, pattern):\n",
    "        return from_dict(jq.compile(pattern).input(self.nb).first())\n",
    "\n",
    "    def clean_execution_counts(self):\n",
    "        self.nb = self.apply_jq_pattern('.cells[].execution_count = null')\n",
    "        \n",
    "    def clean_outputs(self):\n",
    "        self.nb = self.apply_jq_pattern('.cells[].outputs = []')\n",
    "    \n",
    "    def clean_all_metadata(self):\n",
    "        self.nb = self.apply_jq_pattern('.cells[].metadata = {}')\n",
    "        self.nb = self.apply_jq_pattern('.metadata = {}')\n",
    "        \n",
    "    def clean_all(self):\n",
    "        self.clean_execution_counts()\n",
    "        self.clean_outputs()\n",
    "        self.clean_all_metadata()\n",
    "        return self\n",
    "        \n",
    "    def save(self, path=None):\n",
    "        path = path if path else self.path\n",
    "        write_nb(self.nb, path)\n",
    "        "
   ]
  },
  {
   "cell_type": "markdown",
   "metadata": {},
   "source": [
    "### Tests"
   ]
  },
  {
   "cell_type": "markdown",
   "metadata": {},
   "source": [
    "#### Base Clean Notebook"
   ]
  },
  {
   "cell_type": "code",
   "execution_count": 37,
   "metadata": {},
   "outputs": [],
   "source": [
    "#| hide\n",
    "\n",
    "# tests the \"clean\" nb is indeed clean\n",
    "nb = read_nb('../tests/data/clean.ipynb', as_version=4)\n",
    "validate_nb(nb)\n",
    "\n",
    "# contains a singel cell \n",
    "assert nb.cells == [{'cell_type': 'code',\n",
    "   'execution_count': None,\n",
    "   'metadata': {},\n",
    "   'outputs': [],\n",
    "   'source': ''}]"
   ]
  },
  {
   "cell_type": "markdown",
   "metadata": {},
   "source": [
    "#### Cleaning a clean notebook produces same result"
   ]
  },
  {
   "cell_type": "code",
   "execution_count": 42,
   "metadata": {},
   "outputs": [],
   "source": [
    "#| hide\n",
    "assert nb == Notebook('../tests/data/clean.ipynb').clean_all().nb"
   ]
  },
  {
   "cell_type": "markdown",
   "metadata": {},
   "source": [
    "## CLI execution"
   ]
  },
  {
   "cell_type": "code",
   "execution_count": 43,
   "metadata": {},
   "outputs": [],
   "source": [
    "#| export\n",
    "\n",
    "from fastcore.script import call_parse, Param\n",
    "from pathlib import Path\n",
    "\n",
    "\n",
    "@call_parse\n",
    "def nbcleanse():\n",
    "    \"Clean all notebooks in the current directory\"\n",
    "    for path in Path('.').glob('*.ipynb'):\n",
    "        Notebook(path).clean_all().save()"
   ]
  },
  {
   "cell_type": "markdown",
   "metadata": {},
   "source": [
    "## export"
   ]
  },
  {
   "cell_type": "code",
   "execution_count": 44,
   "metadata": {},
   "outputs": [],
   "source": [
    "from nbdev.export import nb_export\n",
    "\n",
    "nb_export('nb_definition.ipynb')"
   ]
  },
  {
   "cell_type": "code",
   "execution_count": null,
   "metadata": {},
   "outputs": [],
   "source": []
  }
 ],
 "metadata": {
  "kernelspec": {
   "display_name": "Python 3.10.0 ('nbcleanse')",
   "language": "python",
   "name": "python3"
  },
  "language_info": {
   "codemirror_mode": {
    "name": "ipython",
    "version": 3
   },
   "file_extension": ".py",
   "mimetype": "text/x-python",
   "name": "python",
   "nbconvert_exporter": "python",
   "pygments_lexer": "ipython3",
   "version": "3.10.0"
  },
  "vscode": {
   "interpreter": {
    "hash": "bf46a7aded785e62ef1b75d4d41b21232b153fa5c22b4861f9f5aec589bb1f0c"
   }
  }
 },
 "nbformat": 4,
 "nbformat_minor": 2
}
